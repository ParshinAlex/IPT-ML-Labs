{
 "cells": [
  {
   "cell_type": "code",
   "execution_count": 19,
   "id": "de0c4c7b",
   "metadata": {},
   "outputs": [],
   "source": [
    "import numpy as np\n",
    "import pandas as pd\n",
    "import matplotlib.pyplot as plt\n",
    "from sklearn.model_selection import train_test_split\n",
    "from matplotlib.colors import ListedColormap"
   ]
  },
  {
   "cell_type": "code",
   "execution_count": 20,
   "id": "f55371c1",
   "metadata": {},
   "outputs": [],
   "source": [
    "df = pd.read_csv(\"data/data09.csv\", delimiter=';')"
   ]
  },
  {
   "cell_type": "code",
   "execution_count": 21,
   "id": "a6222c66",
   "metadata": {},
   "outputs": [],
   "source": [
    "class Perceptron(object):\n",
    "    def __init__(self, eta=0.01, n_iter = 10):\n",
    "        self.eta = eta\n",
    "        self.n_iter = n_iter\n",
    "        \n",
    "    def fit(self, X, y):\n",
    "        self.w_ = np.zeros(1 + X.shape[1])\n",
    "        self.errors_ = []\n",
    "        \n",
    "        for index in range(self.n_iter):\n",
    "            errors = 0\n",
    "            for xi, target in zip(X, y):\n",
    "                update = self.eta * (target - self.predict(xi))\n",
    "                self.w_[1:] += update * xi\n",
    "                self.w_[0] += update\n",
    "                errors += int(update != 0.0)\n",
    "            self.errors_.append(errors)\n",
    "        return self\n",
    "    \n",
    "    def net_input(self, X):\n",
    "        return np.dot(X, self.w_[1:]) + self.w_[0]\n",
    "    \n",
    "    def predict(self, X):\n",
    "        return np.where(self.net_input(X) >= 0.0, 1, 0)\n",
    "        "
   ]
  },
  {
   "cell_type": "code",
   "execution_count": 22,
   "id": "bed35d6e",
   "metadata": {},
   "outputs": [
    {
     "data": {
      "image/png": "[encoded data removed]",
      "text/plain": [
       "<Figure size 432x288 with 1 Axes>"
      ]
     },
     "metadata": {
      "needs_background": "light"
     },
     "output_type": "display_data"
    }
   ],
   "source": [
    "df_yes = df[df['Answer'] == 1]\n",
    "df_no = df[df['Answer'] == 0]\n",
    "\n",
    "plt.scatter(df_yes['Param1'], df_yes['Param2'], c='g')\n",
    "plt.scatter(df_no['Param1'], df_no['Param2'], c='r')\n",
    "\n",
    "plt.show()"
   ]
  },
  {
   "cell_type": "code",
   "execution_count": 23,
   "id": "951f3112",
   "metadata": {
    "scrolled": true
   },
   "outputs": [
    {
     "data": {
      "image/png": "[encoded data removed]",
      "text/plain": [
       "<Figure size 432x288 with 1 Axes>"
      ]
     },
     "metadata": {
      "needs_background": "light"
     },
     "output_type": "display_data"
    }
   ],
   "source": [
    "x_train, x_test, y_train, y_test = train_test_split(df[['Param1', 'Param2']].values, df['Answer'], test_size=0.2)\n",
    "\n",
    "\n",
    "\n",
    "perc = Perceptron(eta=0.1, n_iter=10)\n",
    "perc.fit(x_train, y_train)\n",
    "plt.plot(range(1, len(perc.errors_) + 1), perc.errors_, marker='o')\n",
    "plt.xlabel('Eras')\n",
    "plt.ylabel('Cases of wrong classification')\n",
    "plt.show()"
   ]
  },
  {
   "cell_type": "code",
   "execution_count": 24,
   "id": "0fd8b963",
   "metadata": {},
   "outputs": [
    {
     "name": "stdout",
     "output_type": "stream",
     "text": [
      "[0 0 0 1 1 0 0 0 1 1 1 0 0 1 0 0 1 0 0 0]\n",
      "[0 0 0 1 1 0 0 0 1 1 1 0 0 1 0 0 1 0 0 0]\n"
     ]
    }
   ],
   "source": [
    "res_arr = perc.predict(x_test)\n",
    "\n",
    "print(res_arr)\n",
    "print(np.array(y_test))\n"
   ]
  },
  {
   "cell_type": "code",
   "execution_count": 25,
   "id": "879d4f08",
   "metadata": {},
   "outputs": [
    {
     "data": {
      "image/png": "[encoded data removed]",
      "text/plain": [
       "<Figure size 432x288 with 1 Axes>"
      ]
     },
     "metadata": {
      "needs_background": "light"
     },
     "output_type": "display_data"
    }
   ],
   "source": [
    "def get_regions(x_test, y_test, perc, resolution = 0.001):\n",
    "    markers = ('o', 'o')\n",
    "    colors = ('r', 'g', 'g', 'gray', 'cyan')\n",
    "    cmap = ListedColormap(colors[:len(np.unique(y_test))])\n",
    "    \n",
    "    x1_min, x1_max = x_test[:, 0].min() - 0.1, x_test[:, 0].max() + 0.1\n",
    "    x2_min, x2_max = x_test[:, 1].min() - 0.1, x_test[:, 1].max() + 0.1\n",
    "    \n",
    "    xx1, xx2 = np.meshgrid(np.arange(x1_min, x1_max, resolution), \n",
    "                          np.arange(x2_min, x2_max, resolution))\n",
    "    Z = perc.predict(np.array([xx1.ravel(), xx2.ravel()]).T)\n",
    "    \n",
    "    Z = Z.reshape(xx1.shape)\n",
    "    plt.contourf(xx1, xx2, Z, alpha=0.4, cmap=cmap)\n",
    "    plt.xlim(xx1.min(), xx1.max())\n",
    "    plt.ylim(xx2.min(), xx2.max())\n",
    "    \n",
    "    for idx, cl in enumerate(np.unique(y_test)):\n",
    "        plt.scatter(x=x_test[y_test == cl, 0], y=x_test[y_test == cl, 1],\n",
    "                   alpha=0.8, color=cmap(idx), marker=markers[idx], label=cl)\n",
    "    \n",
    "\n",
    "get_regions(x_test, y_test, perc)\n",
    "plt.show()"
   ]
  },
  {
   "cell_type": "code",
   "execution_count": null,
   "id": "44dd6214",
   "metadata": {},
   "outputs": [],
   "source": []
  },
  {
   "cell_type": "code",
   "execution_count": null,
   "id": "5d6513a2",
   "metadata": {},
   "outputs": [],
   "source": []
  }
 ],
 "metadata": {
  "kernelspec": {
   "display_name": "Python 3 (ipykernel)",
   "language": "python",
   "name": "python3"
  },
  "language_info": {
   "codemirror_mode": {
    "name": "ipython",
    "version": 3
   },
   "file_extension": ".py",
   "mimetype": "text/x-python",
   "name": "python",
   "nbconvert_exporter": "python",
   "pygments_lexer": "ipython3",
   "version": "3.9.7"
  }
 },
 "nbformat": 4,
 "nbformat_minor": 5
}
